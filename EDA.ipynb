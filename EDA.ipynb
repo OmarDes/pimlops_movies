{
 "cells": [
  {
   "attachments": {},
   "cell_type": "markdown",
   "metadata": {},
   "source": [
    "EDA inicial"
   ]
  },
  {
   "cell_type": "code",
   "execution_count": 47,
   "metadata": {},
   "outputs": [
    {
     "name": "stderr",
     "output_type": "stream",
     "text": [
      "C:\\Users\\Omar\\AppData\\Local\\Temp\\ipykernel_5192\\2006822745.py:3: DtypeWarning: Columns (10) have mixed types. Specify dtype option on import or set low_memory=False.\n",
      "  movies_df =pd.read_csv('movies_dataset.csv') #Lectura dataset\n"
     ]
    }
   ],
   "source": [
    "import pandas as pd\n",
    "import json\n",
    "movies_df =pd.read_csv('movies_dataset.csv') #Lectura dataset"
   ]
  },
  {
   "cell_type": "code",
   "execution_count": 48,
   "metadata": {},
   "outputs": [
    {
     "name": "stdout",
     "output_type": "stream",
     "text": [
      "<class 'pandas.core.frame.DataFrame'>\n",
      "RangeIndex: 45466 entries, 0 to 45465\n",
      "Data columns (total 24 columns):\n",
      " #   Column                 Non-Null Count  Dtype  \n",
      "---  ------                 --------------  -----  \n",
      " 0   adult                  45466 non-null  object \n",
      " 1   belongs_to_collection  4494 non-null   object \n",
      " 2   budget                 45466 non-null  object \n",
      " 3   genres                 45466 non-null  object \n",
      " 4   homepage               7782 non-null   object \n",
      " 5   id                     45466 non-null  object \n",
      " 6   imdb_id                45449 non-null  object \n",
      " 7   original_language      45455 non-null  object \n",
      " 8   original_title         45466 non-null  object \n",
      " 9   overview               44512 non-null  object \n",
      " 10  popularity             45461 non-null  object \n",
      " 11  poster_path            45080 non-null  object \n",
      " 12  production_companies   45463 non-null  object \n",
      " 13  production_countries   45463 non-null  object \n",
      " 14  release_date           45379 non-null  object \n",
      " 15  revenue                45460 non-null  float64\n",
      " 16  runtime                45203 non-null  float64\n",
      " 17  spoken_languages       45460 non-null  object \n",
      " 18  status                 45379 non-null  object \n",
      " 19  tagline                20412 non-null  object \n",
      " 20  title                  45460 non-null  object \n",
      " 21  video                  45460 non-null  object \n",
      " 22  vote_average           45460 non-null  float64\n",
      " 23  vote_count             45460 non-null  float64\n",
      "dtypes: float64(4), object(20)\n",
      "memory usage: 8.3+ MB\n"
     ]
    },
    {
     "data": {
      "text/html": [
       "<div>\n",
       "<style scoped>\n",
       "    .dataframe tbody tr th:only-of-type {\n",
       "        vertical-align: middle;\n",
       "    }\n",
       "\n",
       "    .dataframe tbody tr th {\n",
       "        vertical-align: top;\n",
       "    }\n",
       "\n",
       "    .dataframe thead th {\n",
       "        text-align: right;\n",
       "    }\n",
       "</style>\n",
       "<table border=\"1\" class=\"dataframe\">\n",
       "  <thead>\n",
       "    <tr style=\"text-align: right;\">\n",
       "      <th></th>\n",
       "      <th>adult</th>\n",
       "      <th>belongs_to_collection</th>\n",
       "      <th>budget</th>\n",
       "      <th>genres</th>\n",
       "      <th>homepage</th>\n",
       "      <th>id</th>\n",
       "      <th>imdb_id</th>\n",
       "      <th>original_language</th>\n",
       "      <th>original_title</th>\n",
       "      <th>overview</th>\n",
       "      <th>...</th>\n",
       "      <th>release_date</th>\n",
       "      <th>revenue</th>\n",
       "      <th>runtime</th>\n",
       "      <th>spoken_languages</th>\n",
       "      <th>status</th>\n",
       "      <th>tagline</th>\n",
       "      <th>title</th>\n",
       "      <th>video</th>\n",
       "      <th>vote_average</th>\n",
       "      <th>vote_count</th>\n",
       "    </tr>\n",
       "  </thead>\n",
       "  <tbody>\n",
       "    <tr>\n",
       "      <th>0</th>\n",
       "      <td>False</td>\n",
       "      <td>{'id': 10194, 'name': 'Toy Story Collection', ...</td>\n",
       "      <td>30000000</td>\n",
       "      <td>[{'id': 16, 'name': 'Animation'}, {'id': 35, '...</td>\n",
       "      <td>http://toystory.disney.com/toy-story</td>\n",
       "      <td>862</td>\n",
       "      <td>tt0114709</td>\n",
       "      <td>en</td>\n",
       "      <td>Toy Story</td>\n",
       "      <td>Led by Woody, Andy's toys live happily in his ...</td>\n",
       "      <td>...</td>\n",
       "      <td>1995-10-30</td>\n",
       "      <td>373554033.0</td>\n",
       "      <td>81.0</td>\n",
       "      <td>[{'iso_639_1': 'en', 'name': 'English'}]</td>\n",
       "      <td>Released</td>\n",
       "      <td>NaN</td>\n",
       "      <td>Toy Story</td>\n",
       "      <td>False</td>\n",
       "      <td>7.7</td>\n",
       "      <td>5415.0</td>\n",
       "    </tr>\n",
       "    <tr>\n",
       "      <th>1</th>\n",
       "      <td>False</td>\n",
       "      <td>NaN</td>\n",
       "      <td>65000000</td>\n",
       "      <td>[{'id': 12, 'name': 'Adventure'}, {'id': 14, '...</td>\n",
       "      <td>NaN</td>\n",
       "      <td>8844</td>\n",
       "      <td>tt0113497</td>\n",
       "      <td>en</td>\n",
       "      <td>Jumanji</td>\n",
       "      <td>When siblings Judy and Peter discover an encha...</td>\n",
       "      <td>...</td>\n",
       "      <td>1995-12-15</td>\n",
       "      <td>262797249.0</td>\n",
       "      <td>104.0</td>\n",
       "      <td>[{'iso_639_1': 'en', 'name': 'English'}, {'iso...</td>\n",
       "      <td>Released</td>\n",
       "      <td>Roll the dice and unleash the excitement!</td>\n",
       "      <td>Jumanji</td>\n",
       "      <td>False</td>\n",
       "      <td>6.9</td>\n",
       "      <td>2413.0</td>\n",
       "    </tr>\n",
       "    <tr>\n",
       "      <th>2</th>\n",
       "      <td>False</td>\n",
       "      <td>{'id': 119050, 'name': 'Grumpy Old Men Collect...</td>\n",
       "      <td>0</td>\n",
       "      <td>[{'id': 10749, 'name': 'Romance'}, {'id': 35, ...</td>\n",
       "      <td>NaN</td>\n",
       "      <td>15602</td>\n",
       "      <td>tt0113228</td>\n",
       "      <td>en</td>\n",
       "      <td>Grumpier Old Men</td>\n",
       "      <td>A family wedding reignites the ancient feud be...</td>\n",
       "      <td>...</td>\n",
       "      <td>1995-12-22</td>\n",
       "      <td>0.0</td>\n",
       "      <td>101.0</td>\n",
       "      <td>[{'iso_639_1': 'en', 'name': 'English'}]</td>\n",
       "      <td>Released</td>\n",
       "      <td>Still Yelling. Still Fighting. Still Ready for...</td>\n",
       "      <td>Grumpier Old Men</td>\n",
       "      <td>False</td>\n",
       "      <td>6.5</td>\n",
       "      <td>92.0</td>\n",
       "    </tr>\n",
       "    <tr>\n",
       "      <th>3</th>\n",
       "      <td>False</td>\n",
       "      <td>NaN</td>\n",
       "      <td>16000000</td>\n",
       "      <td>[{'id': 35, 'name': 'Comedy'}, {'id': 18, 'nam...</td>\n",
       "      <td>NaN</td>\n",
       "      <td>31357</td>\n",
       "      <td>tt0114885</td>\n",
       "      <td>en</td>\n",
       "      <td>Waiting to Exhale</td>\n",
       "      <td>Cheated on, mistreated and stepped on, the wom...</td>\n",
       "      <td>...</td>\n",
       "      <td>1995-12-22</td>\n",
       "      <td>81452156.0</td>\n",
       "      <td>127.0</td>\n",
       "      <td>[{'iso_639_1': 'en', 'name': 'English'}]</td>\n",
       "      <td>Released</td>\n",
       "      <td>Friends are the people who let you be yourself...</td>\n",
       "      <td>Waiting to Exhale</td>\n",
       "      <td>False</td>\n",
       "      <td>6.1</td>\n",
       "      <td>34.0</td>\n",
       "    </tr>\n",
       "  </tbody>\n",
       "</table>\n",
       "<p>4 rows × 24 columns</p>\n",
       "</div>"
      ],
      "text/plain": [
       "   adult                              belongs_to_collection    budget  \\\n",
       "0  False  {'id': 10194, 'name': 'Toy Story Collection', ...  30000000   \n",
       "1  False                                                NaN  65000000   \n",
       "2  False  {'id': 119050, 'name': 'Grumpy Old Men Collect...         0   \n",
       "3  False                                                NaN  16000000   \n",
       "\n",
       "                                              genres  \\\n",
       "0  [{'id': 16, 'name': 'Animation'}, {'id': 35, '...   \n",
       "1  [{'id': 12, 'name': 'Adventure'}, {'id': 14, '...   \n",
       "2  [{'id': 10749, 'name': 'Romance'}, {'id': 35, ...   \n",
       "3  [{'id': 35, 'name': 'Comedy'}, {'id': 18, 'nam...   \n",
       "\n",
       "                               homepage     id    imdb_id original_language  \\\n",
       "0  http://toystory.disney.com/toy-story    862  tt0114709                en   \n",
       "1                                   NaN   8844  tt0113497                en   \n",
       "2                                   NaN  15602  tt0113228                en   \n",
       "3                                   NaN  31357  tt0114885                en   \n",
       "\n",
       "      original_title                                           overview  ...  \\\n",
       "0          Toy Story  Led by Woody, Andy's toys live happily in his ...  ...   \n",
       "1            Jumanji  When siblings Judy and Peter discover an encha...  ...   \n",
       "2   Grumpier Old Men  A family wedding reignites the ancient feud be...  ...   \n",
       "3  Waiting to Exhale  Cheated on, mistreated and stepped on, the wom...  ...   \n",
       "\n",
       "  release_date      revenue runtime  \\\n",
       "0   1995-10-30  373554033.0    81.0   \n",
       "1   1995-12-15  262797249.0   104.0   \n",
       "2   1995-12-22          0.0   101.0   \n",
       "3   1995-12-22   81452156.0   127.0   \n",
       "\n",
       "                                    spoken_languages    status  \\\n",
       "0           [{'iso_639_1': 'en', 'name': 'English'}]  Released   \n",
       "1  [{'iso_639_1': 'en', 'name': 'English'}, {'iso...  Released   \n",
       "2           [{'iso_639_1': 'en', 'name': 'English'}]  Released   \n",
       "3           [{'iso_639_1': 'en', 'name': 'English'}]  Released   \n",
       "\n",
       "                                             tagline              title  \\\n",
       "0                                                NaN          Toy Story   \n",
       "1          Roll the dice and unleash the excitement!            Jumanji   \n",
       "2  Still Yelling. Still Fighting. Still Ready for...   Grumpier Old Men   \n",
       "3  Friends are the people who let you be yourself...  Waiting to Exhale   \n",
       "\n",
       "   video vote_average vote_count  \n",
       "0  False          7.7     5415.0  \n",
       "1  False          6.9     2413.0  \n",
       "2  False          6.5       92.0  \n",
       "3  False          6.1       34.0  \n",
       "\n",
       "[4 rows x 24 columns]"
      ]
     },
     "execution_count": 48,
     "metadata": {},
     "output_type": "execute_result"
    }
   ],
   "source": [
    "movies_df.info() #Cabecera dataset\n",
    "movies_df.head(4)"
   ]
  },
  {
   "cell_type": "code",
   "execution_count": 49,
   "metadata": {},
   "outputs": [
    {
     "data": {
      "text/plain": [
       "adult                                                                False\n",
       "belongs_to_collection                                                  NaN\n",
       "budget                                                                   0\n",
       "genres                   [{'id': 28, 'name': 'Action'}, {'id': 53, 'nam...\n",
       "homepage                                                               NaN\n",
       "id                                                                   82663\n",
       "imdb_id                                                          tt0113002\n",
       "original_language                                                       en\n",
       "original_title                                                Midnight Man\n",
       "overview                 British soldiers force a recently captured IRA...\n",
       "popularity                                                             NaN\n",
       "poster_path                                                            NaN\n",
       "production_companies                                                   NaN\n",
       "production_countries                                                   NaN\n",
       "release_date                                                           NaN\n",
       "revenue                                                                NaN\n",
       "runtime                                                                NaN\n",
       "spoken_languages                                                       NaN\n",
       "status                                                                 NaN\n",
       "tagline                                                                NaN\n",
       "title                                                                  NaN\n",
       "video                                                                  NaN\n",
       "vote_average                                                           NaN\n",
       "vote_count                                                             NaN\n",
       "Name: 19729, dtype: object"
      ]
     },
     "execution_count": 49,
     "metadata": {},
     "output_type": "execute_result"
    }
   ],
   "source": [
    "movies_df.iloc[19729] # la carga del data set a MySQL Workbench no acpta algunas filas, se complementan o eliminan aca"
   ]
  },
  {
   "cell_type": "code",
   "execution_count": 50,
   "metadata": {},
   "outputs": [],
   "source": [
    "movies_df = movies_df.drop(labels=19729, axis=0) # fila con datos errados, se elimina"
   ]
  },
  {
   "cell_type": "code",
   "execution_count": 51,
   "metadata": {},
   "outputs": [],
   "source": [
    "movies_df.to_csv('movies_dataset.csv', index=False) # se guarda archivo"
   ]
  },
  {
   "cell_type": "code",
   "execution_count": 52,
   "metadata": {},
   "outputs": [
    {
     "name": "stderr",
     "output_type": "stream",
     "text": [
      "C:\\Users\\Omar\\AppData\\Local\\Temp\\ipykernel_5192\\3848035962.py:1: DtypeWarning: Columns (10) have mixed types. Specify dtype option on import or set low_memory=False.\n",
      "  movies_df =pd.read_csv('movies_dataset.csv') # se vuelve a cargar\n"
     ]
    }
   ],
   "source": [
    "movies_df =pd.read_csv('movies_dataset.csv') # se vuelve a cargar"
   ]
  },
  {
   "cell_type": "code",
   "execution_count": 54,
   "metadata": {},
   "outputs": [
    {
     "data": {
      "text/plain": [
       "adult                                                   - Written by Ørnås\n",
       "belongs_to_collection                                             0.065736\n",
       "budget                                    /ff9qCepilowshEtG2GYWwzt2bs4.jpg\n",
       "genres                   [{'name': 'Carousel Productions', 'id': 11176}...\n",
       "homepage                 [{'iso_3166_1': 'CA', 'name': 'Canada'}, {'iso...\n",
       "id                                                              1997-08-20\n",
       "imdb_id                                                                  0\n",
       "original_language                                                    104.0\n",
       "original_title                    [{'iso_639_1': 'en', 'name': 'English'}]\n",
       "overview                                                          Released\n",
       "popularity                                                             NaN\n",
       "poster_path                                                   Midnight Man\n",
       "production_companies                                                 False\n",
       "production_countries                                                   6.0\n",
       "release_date                                                             1\n",
       "revenue                                                                NaN\n",
       "runtime                                                                NaN\n",
       "spoken_languages                                                       NaN\n",
       "status                                                                 NaN\n",
       "tagline                                                                NaN\n",
       "title                                                                  NaN\n",
       "video                                                                  NaN\n",
       "vote_average                                                           NaN\n",
       "vote_count                                                             NaN\n",
       "Name: 19729, dtype: object"
      ]
     },
     "execution_count": 54,
     "metadata": {},
     "output_type": "execute_result"
    }
   ],
   "source": [
    "movies_df.iloc[19729]    # fila con datos errados, se elimina"
   ]
  },
  {
   "cell_type": "code",
   "execution_count": 55,
   "metadata": {},
   "outputs": [],
   "source": [
    "movies_df = movies_df.drop(labels=19729, axis=0) # fila con datos errados, se elimina"
   ]
  },
  {
   "cell_type": "code",
   "execution_count": 56,
   "metadata": {},
   "outputs": [],
   "source": [
    "movies_df.to_csv('movies_dataset.csv', index=False) # se guarda archivo"
   ]
  },
  {
   "cell_type": "code",
   "execution_count": 57,
   "metadata": {},
   "outputs": [
    {
     "name": "stderr",
     "output_type": "stream",
     "text": [
      "C:\\Users\\Omar\\AppData\\Local\\Temp\\ipykernel_5192\\3848035962.py:1: DtypeWarning: Columns (10) have mixed types. Specify dtype option on import or set low_memory=False.\n",
      "  movies_df =pd.read_csv('movies_dataset.csv') # se vuelve a cargar\n"
     ]
    }
   ],
   "source": [
    "movies_df =pd.read_csv('movies_dataset.csv') # se vuelve a cargar"
   ]
  },
  {
   "cell_type": "code",
   "execution_count": 58,
   "metadata": {},
   "outputs": [
    {
     "data": {
      "text/plain": [
       "adult                                                                False\n",
       "belongs_to_collection    {'id': 122661, 'name': 'Mardock Scramble Colle...\n",
       "budget                                                                   0\n",
       "genres                   [{'id': 16, 'name': 'Animation'}, {'id': 878, ...\n",
       "homepage                                     http://m-scramble.jp/exhaust/\n",
       "id                                                                  122662\n",
       "imdb_id                                                          tt2423504\n",
       "original_language                                                       ja\n",
       "original_title                                            マルドゥック・スクランブル 排気\n",
       "overview                        Third film of the Mardock Scramble series.\n",
       "popularity                                                             NaN\n",
       "poster_path                                                            NaN\n",
       "production_companies                                                   NaN\n",
       "production_countries                                                   NaN\n",
       "release_date                                                           NaN\n",
       "revenue                                                                NaN\n",
       "runtime                                                                NaN\n",
       "spoken_languages                                                       NaN\n",
       "status                                                                 NaN\n",
       "tagline                                                                NaN\n",
       "title                                                                  NaN\n",
       "video                                                                  NaN\n",
       "vote_average                                                           NaN\n",
       "vote_count                                                             NaN\n",
       "Name: 29500, dtype: object"
      ]
     },
     "execution_count": 58,
     "metadata": {},
     "output_type": "execute_result"
    }
   ],
   "source": [
    "movies_df.iloc[29500]  # otra fila para eliminar"
   ]
  },
  {
   "cell_type": "code",
   "execution_count": 59,
   "metadata": {},
   "outputs": [],
   "source": [
    "movies_df = movies_df.drop(labels=29500, axis=0) #se eliminna"
   ]
  },
  {
   "cell_type": "code",
   "execution_count": 60,
   "metadata": {},
   "outputs": [],
   "source": [
    "movies_df.to_csv('movies_dataset.csv', index=False) #se guarda archivo"
   ]
  },
  {
   "cell_type": "code",
   "execution_count": 61,
   "metadata": {},
   "outputs": [
    {
     "name": "stderr",
     "output_type": "stream",
     "text": [
      "C:\\Users\\Omar\\AppData\\Local\\Temp\\ipykernel_5192\\626169731.py:1: DtypeWarning: Columns (10) have mixed types. Specify dtype option on import or set low_memory=False.\n",
      "  movies_df =pd.read_csv('movies_dataset.csv') #se lee arhivo\n"
     ]
    }
   ],
   "source": [
    "movies_df =pd.read_csv('movies_dataset.csv') #se lee arhivo"
   ]
  },
  {
   "cell_type": "code",
   "execution_count": 62,
   "metadata": {},
   "outputs": [
    {
     "data": {
      "text/plain": [
       "adult                     Rune Balot goes to a casino connected to the ...\n",
       "belongs_to_collection                                             1.931659\n",
       "budget                                    /zV8bHuSL6WXoD6FWogP9j4x80bL.jpg\n",
       "genres                   [{'name': 'Aniplex', 'id': 2883}, {'name': 'Go...\n",
       "homepage                 [{'iso_3166_1': 'US', 'name': 'United States o...\n",
       "id                                                              2012-09-29\n",
       "imdb_id                                                                  0\n",
       "original_language                                                     68.0\n",
       "original_title                        [{'iso_639_1': 'ja', 'name': '日本語'}]\n",
       "overview                                                          Released\n",
       "popularity                                                             NaN\n",
       "poster_path                            Mardock Scramble: The Third Exhaust\n",
       "production_companies                                                 False\n",
       "production_countries                                                   7.0\n",
       "release_date                                                            12\n",
       "revenue                                                                NaN\n",
       "runtime                                                                NaN\n",
       "spoken_languages                                                       NaN\n",
       "status                                                                 NaN\n",
       "tagline                                                                NaN\n",
       "title                                                                  NaN\n",
       "video                                                                  NaN\n",
       "vote_average                                                           NaN\n",
       "vote_count                                                             NaN\n",
       "Name: 29500, dtype: object"
      ]
     },
     "execution_count": 62,
     "metadata": {},
     "output_type": "execute_result"
    }
   ],
   "source": [
    "movies_df.iloc[29500] # fila con campos vacios"
   ]
  },
  {
   "cell_type": "code",
   "execution_count": 63,
   "metadata": {},
   "outputs": [],
   "source": [
    "movies_df = movies_df.drop(labels=29500, axis=0) #se eliminna"
   ]
  },
  {
   "cell_type": "code",
   "execution_count": 64,
   "metadata": {},
   "outputs": [],
   "source": [
    "movies_df.to_csv('movies_dataset.csv', index=False) #se guarda archivo"
   ]
  },
  {
   "cell_type": "code",
   "execution_count": 65,
   "metadata": {},
   "outputs": [
    {
     "name": "stderr",
     "output_type": "stream",
     "text": [
      "C:\\Users\\Omar\\AppData\\Local\\Temp\\ipykernel_5192\\626169731.py:1: DtypeWarning: Columns (0,2,5,10,21) have mixed types. Specify dtype option on import or set low_memory=False.\n",
      "  movies_df =pd.read_csv('movies_dataset.csv') #se lee arhivo\n"
     ]
    }
   ],
   "source": [
    "movies_df =pd.read_csv('movies_dataset.csv') #se lee arhivo"
   ]
  },
  {
   "cell_type": "code",
   "execution_count": 66,
   "metadata": {},
   "outputs": [
    {
     "data": {
      "text/plain": [
       "adult                                                                False\n",
       "belongs_to_collection                                                  NaN\n",
       "budget                                                                   0\n",
       "genres                   [{'id': 10770, 'name': 'TV Movie'}, {'id': 28,...\n",
       "homepage                                                               NaN\n",
       "id                                                                  249260\n",
       "imdb_id                                                          tt2622826\n",
       "original_language                                                       en\n",
       "original_title                                            Avalanche Sharks\n",
       "overview                 A group of skiers are terrorized during spring...\n",
       "popularity                                                             NaN\n",
       "poster_path                                                            NaN\n",
       "production_companies                                                   NaN\n",
       "production_countries                                                   NaN\n",
       "release_date                                                           NaN\n",
       "revenue                                                                NaN\n",
       "runtime                                                                NaN\n",
       "spoken_languages                                                       NaN\n",
       "status                                                                 NaN\n",
       "tagline                                                                NaN\n",
       "title                                                                  NaN\n",
       "video                                                                  NaN\n",
       "vote_average                                                           NaN\n",
       "vote_count                                                             NaN\n",
       "Name: 35582, dtype: object"
      ]
     },
     "execution_count": 66,
     "metadata": {},
     "output_type": "execute_result"
    }
   ],
   "source": [
    "movies_df.iloc[35582] #fila con campos vacios"
   ]
  },
  {
   "cell_type": "code",
   "execution_count": 67,
   "metadata": {},
   "outputs": [],
   "source": [
    "movies_df = movies_df.drop(labels=35582, axis=0) #se eliminna"
   ]
  },
  {
   "cell_type": "code",
   "execution_count": 68,
   "metadata": {},
   "outputs": [],
   "source": [
    "movies_df.to_csv('movies_dataset.csv', index=False) #se guarda archivo"
   ]
  },
  {
   "cell_type": "code",
   "execution_count": 69,
   "metadata": {},
   "outputs": [
    {
     "name": "stderr",
     "output_type": "stream",
     "text": [
      "C:\\Users\\Omar\\AppData\\Local\\Temp\\ipykernel_5192\\626169731.py:1: DtypeWarning: Columns (0,2,5,10,21) have mixed types. Specify dtype option on import or set low_memory=False.\n",
      "  movies_df =pd.read_csv('movies_dataset.csv') #se lee arhivo\n"
     ]
    }
   ],
   "source": [
    "movies_df =pd.read_csv('movies_dataset.csv') #se lee arhivo"
   ]
  },
  {
   "cell_type": "code",
   "execution_count": 70,
   "metadata": {},
   "outputs": [
    {
     "data": {
      "text/plain": [
       "adult                     Avalanche Sharks tells the story of a bikini ...\n",
       "belongs_to_collection                                             2.185485\n",
       "budget                                    /zaSf5OG7V8X8gqFvly88zDdRm46.jpg\n",
       "genres                   [{'name': 'Odyssey Media', 'id': 17161}, {'nam...\n",
       "homepage                          [{'iso_3166_1': 'CA', 'name': 'Canada'}]\n",
       "id                                                              2014-01-01\n",
       "imdb_id                                                                  0\n",
       "original_language                                                     82.0\n",
       "original_title                    [{'iso_639_1': 'en', 'name': 'English'}]\n",
       "overview                                                          Released\n",
       "popularity                                           Beware Of Frost Bites\n",
       "poster_path                                               Avalanche Sharks\n",
       "production_companies                                                 False\n",
       "production_countries                                                   4.3\n",
       "release_date                                                            22\n",
       "revenue                                                                NaN\n",
       "runtime                                                                NaN\n",
       "spoken_languages                                                       NaN\n",
       "status                                                                 NaN\n",
       "tagline                                                                NaN\n",
       "title                                                                  NaN\n",
       "video                                                                  NaN\n",
       "vote_average                                                           NaN\n",
       "vote_count                                                             NaN\n",
       "Name: 35582, dtype: object"
      ]
     },
     "execution_count": 70,
     "metadata": {},
     "output_type": "execute_result"
    }
   ],
   "source": [
    "movies_df.iloc[35582]  # fila para eliminar"
   ]
  },
  {
   "cell_type": "code",
   "execution_count": 71,
   "metadata": {},
   "outputs": [],
   "source": [
    "movies_df = movies_df.drop(labels=35582, axis=0)"
   ]
  },
  {
   "cell_type": "code",
   "execution_count": 72,
   "metadata": {},
   "outputs": [],
   "source": [
    "movies_df.to_csv('movies_dataset.csv', index=False)"
   ]
  },
  {
   "cell_type": "code",
   "execution_count": 73,
   "metadata": {},
   "outputs": [],
   "source": [
    "movies_df =pd.read_csv('movies_dataset.csv') #se lee arhivo"
   ]
  },
  {
   "cell_type": "code",
   "execution_count": 74,
   "metadata": {},
   "outputs": [
    {
     "data": {
      "text/plain": [
       "adult                                                                False\n",
       "belongs_to_collection                                                  NaN\n",
       "budget                                                                   0\n",
       "genres                   [{'id': 10752, 'name': 'War'}, {'id': 18, 'nam...\n",
       "homepage                                                               NaN\n",
       "id                                                                  151911\n",
       "imdb_id                                                          tt0029924\n",
       "original_language                                                       en\n",
       "original_title                                                    Blockade\n",
       "overview                 A simple peasant is forced to take up arms to ...\n",
       "popularity                                                         0.69411\n",
       "poster_path                               /cYolP5lEMCCMpXMTAbuf07Il3sT.jpg\n",
       "production_companies     [{'name': 'United Artists', 'id': 60}, {'name'...\n",
       "production_countries     [{'iso_3166_1': 'US', 'name': 'United States o...\n",
       "release_date                                                    1938-06-17\n",
       "revenue                                                                0.0\n",
       "runtime                                                               85.0\n",
       "spoken_languages                  [{'iso_639_1': 'en', 'name': 'English'}]\n",
       "status                                                            Released\n",
       "tagline                                                Romance under Fire!\n",
       "title                                                             Blockade\n",
       "video                                                                False\n",
       "vote_average                                                           0.0\n",
       "vote_count                                                             0.0\n",
       "Name: 35582, dtype: object"
      ]
     },
     "execution_count": 74,
     "metadata": {},
     "output_type": "execute_result"
    }
   ],
   "source": [
    "movies_df.iloc[35582]  # fila para eliminar"
   ]
  },
  {
   "cell_type": "code",
   "execution_count": 75,
   "metadata": {},
   "outputs": [],
   "source": [
    "movies_df = movies_df.drop(labels=35582, axis=0)"
   ]
  },
  {
   "cell_type": "code",
   "execution_count": 76,
   "metadata": {},
   "outputs": [],
   "source": [
    "movies_df.to_csv('movies_dataset.csv', index=False)"
   ]
  },
  {
   "cell_type": "code",
   "execution_count": 77,
   "metadata": {},
   "outputs": [],
   "source": [
    "movies_df =pd.read_csv('movies_dataset.csv') #se lee arhivo"
   ]
  },
  {
   "attachments": {},
   "cell_type": "markdown",
   "metadata": {},
   "source": [
    "Ahora se procesa el archivo 'credits.csv' para hacer la carga de datos a la base de datos MySQL, unicamente con los datos de actores y directores"
   ]
  },
  {
   "cell_type": "code",
   "execution_count": 78,
   "metadata": {},
   "outputs": [],
   "source": [
    "import pandas as pd\n",
    "import json\n",
    "credits_df =pd.read_csv('credits.csv') #Lectura dataset"
   ]
  },
  {
   "cell_type": "code",
   "execution_count": 79,
   "metadata": {},
   "outputs": [
    {
     "name": "stdout",
     "output_type": "stream",
     "text": [
      "<class 'pandas.core.frame.DataFrame'>\n",
      "RangeIndex: 45476 entries, 0 to 45475\n",
      "Data columns (total 3 columns):\n",
      " #   Column  Non-Null Count  Dtype \n",
      "---  ------  --------------  ----- \n",
      " 0   cast    45476 non-null  object\n",
      " 1   crew    45476 non-null  object\n",
      " 2   id      45476 non-null  int64 \n",
      "dtypes: int64(1), object(2)\n",
      "memory usage: 1.0+ MB\n"
     ]
    },
    {
     "data": {
      "text/html": [
       "<div>\n",
       "<style scoped>\n",
       "    .dataframe tbody tr th:only-of-type {\n",
       "        vertical-align: middle;\n",
       "    }\n",
       "\n",
       "    .dataframe tbody tr th {\n",
       "        vertical-align: top;\n",
       "    }\n",
       "\n",
       "    .dataframe thead th {\n",
       "        text-align: right;\n",
       "    }\n",
       "</style>\n",
       "<table border=\"1\" class=\"dataframe\">\n",
       "  <thead>\n",
       "    <tr style=\"text-align: right;\">\n",
       "      <th></th>\n",
       "      <th>cast</th>\n",
       "      <th>crew</th>\n",
       "      <th>id</th>\n",
       "    </tr>\n",
       "  </thead>\n",
       "  <tbody>\n",
       "    <tr>\n",
       "      <th>0</th>\n",
       "      <td>[{'cast_id': 14, 'character': 'Woody (voice)',...</td>\n",
       "      <td>[{'credit_id': '52fe4284c3a36847f8024f49', 'de...</td>\n",
       "      <td>862</td>\n",
       "    </tr>\n",
       "    <tr>\n",
       "      <th>1</th>\n",
       "      <td>[{'cast_id': 1, 'character': 'Alan Parrish', '...</td>\n",
       "      <td>[{'credit_id': '52fe44bfc3a36847f80a7cd1', 'de...</td>\n",
       "      <td>8844</td>\n",
       "    </tr>\n",
       "    <tr>\n",
       "      <th>2</th>\n",
       "      <td>[{'cast_id': 2, 'character': 'Max Goldman', 'c...</td>\n",
       "      <td>[{'credit_id': '52fe466a9251416c75077a89', 'de...</td>\n",
       "      <td>15602</td>\n",
       "    </tr>\n",
       "    <tr>\n",
       "      <th>3</th>\n",
       "      <td>[{'cast_id': 1, 'character': \"Savannah 'Vannah...</td>\n",
       "      <td>[{'credit_id': '52fe44779251416c91011acb', 'de...</td>\n",
       "      <td>31357</td>\n",
       "    </tr>\n",
       "  </tbody>\n",
       "</table>\n",
       "</div>"
      ],
      "text/plain": [
       "                                                cast  \\\n",
       "0  [{'cast_id': 14, 'character': 'Woody (voice)',...   \n",
       "1  [{'cast_id': 1, 'character': 'Alan Parrish', '...   \n",
       "2  [{'cast_id': 2, 'character': 'Max Goldman', 'c...   \n",
       "3  [{'cast_id': 1, 'character': \"Savannah 'Vannah...   \n",
       "\n",
       "                                                crew     id  \n",
       "0  [{'credit_id': '52fe4284c3a36847f8024f49', 'de...    862  \n",
       "1  [{'credit_id': '52fe44bfc3a36847f80a7cd1', 'de...   8844  \n",
       "2  [{'credit_id': '52fe466a9251416c75077a89', 'de...  15602  \n",
       "3  [{'credit_id': '52fe44779251416c91011acb', 'de...  31357  "
      ]
     },
     "execution_count": 79,
     "metadata": {},
     "output_type": "execute_result"
    }
   ],
   "source": [
    "credits_df.info() #Cabecera dataset\n",
    "credits_df.head(4)"
   ]
  },
  {
   "cell_type": "code",
   "execution_count": 80,
   "metadata": {},
   "outputs": [],
   "source": [
    "# Se crea la columna 'actors' y se guardan todos los nombres correspondiente a actores de la columna 'cast', se ignora la informacion restante\n",
    "credits_df['actors'] = credits_df['cast'].apply(lambda x: ', '.join([item['name'] for item in eval(x)]))"
   ]
  },
  {
   "cell_type": "code",
   "execution_count": 81,
   "metadata": {},
   "outputs": [],
   "source": [
    "# Esta funcion busca el dato de nombre unicamente para la categoria de 'director' y lo almacena en la columna creada 'director'\n",
    "import ast\n",
    "def fetch_director(obj):\n",
    "  L = []\n",
    "  for i in ast.literal_eval(obj):\n",
    "    if i['job'] == 'Director':\n",
    "      L.append(i['name'])\n",
    "  return ', ' .join(L)\n",
    "\n",
    "credits_df['director'] = credits_df['crew'].apply(fetch_director)"
   ]
  },
  {
   "cell_type": "code",
   "execution_count": 82,
   "metadata": {},
   "outputs": [
    {
     "name": "stdout",
     "output_type": "stream",
     "text": [
      "<class 'pandas.core.frame.DataFrame'>\n",
      "RangeIndex: 45476 entries, 0 to 45475\n",
      "Data columns (total 5 columns):\n",
      " #   Column    Non-Null Count  Dtype \n",
      "---  ------    --------------  ----- \n",
      " 0   cast      45476 non-null  object\n",
      " 1   crew      45476 non-null  object\n",
      " 2   id        45476 non-null  int64 \n",
      " 3   actors    45476 non-null  object\n",
      " 4   director  45476 non-null  object\n",
      "dtypes: int64(1), object(4)\n",
      "memory usage: 1.7+ MB\n"
     ]
    },
    {
     "data": {
      "text/html": [
       "<div>\n",
       "<style scoped>\n",
       "    .dataframe tbody tr th:only-of-type {\n",
       "        vertical-align: middle;\n",
       "    }\n",
       "\n",
       "    .dataframe tbody tr th {\n",
       "        vertical-align: top;\n",
       "    }\n",
       "\n",
       "    .dataframe thead th {\n",
       "        text-align: right;\n",
       "    }\n",
       "</style>\n",
       "<table border=\"1\" class=\"dataframe\">\n",
       "  <thead>\n",
       "    <tr style=\"text-align: right;\">\n",
       "      <th></th>\n",
       "      <th>cast</th>\n",
       "      <th>crew</th>\n",
       "      <th>id</th>\n",
       "      <th>actors</th>\n",
       "      <th>director</th>\n",
       "    </tr>\n",
       "  </thead>\n",
       "  <tbody>\n",
       "    <tr>\n",
       "      <th>0</th>\n",
       "      <td>[{'cast_id': 14, 'character': 'Woody (voice)',...</td>\n",
       "      <td>[{'credit_id': '52fe4284c3a36847f8024f49', 'de...</td>\n",
       "      <td>862</td>\n",
       "      <td>Tom Hanks, Tim Allen, Don Rickles, Jim Varney,...</td>\n",
       "      <td>John Lasseter</td>\n",
       "    </tr>\n",
       "    <tr>\n",
       "      <th>1</th>\n",
       "      <td>[{'cast_id': 1, 'character': 'Alan Parrish', '...</td>\n",
       "      <td>[{'credit_id': '52fe44bfc3a36847f80a7cd1', 'de...</td>\n",
       "      <td>8844</td>\n",
       "      <td>Robin Williams, Jonathan Hyde, Kirsten Dunst, ...</td>\n",
       "      <td>Joe Johnston</td>\n",
       "    </tr>\n",
       "    <tr>\n",
       "      <th>2</th>\n",
       "      <td>[{'cast_id': 2, 'character': 'Max Goldman', 'c...</td>\n",
       "      <td>[{'credit_id': '52fe466a9251416c75077a89', 'de...</td>\n",
       "      <td>15602</td>\n",
       "      <td>Walter Matthau, Jack Lemmon, Ann-Margret, Soph...</td>\n",
       "      <td>Howard Deutch</td>\n",
       "    </tr>\n",
       "    <tr>\n",
       "      <th>3</th>\n",
       "      <td>[{'cast_id': 1, 'character': \"Savannah 'Vannah...</td>\n",
       "      <td>[{'credit_id': '52fe44779251416c91011acb', 'de...</td>\n",
       "      <td>31357</td>\n",
       "      <td>Whitney Houston, Angela Bassett, Loretta Devin...</td>\n",
       "      <td>Forest Whitaker</td>\n",
       "    </tr>\n",
       "    <tr>\n",
       "      <th>4</th>\n",
       "      <td>[{'cast_id': 1, 'character': 'George Banks', '...</td>\n",
       "      <td>[{'credit_id': '52fe44959251416c75039ed7', 'de...</td>\n",
       "      <td>11862</td>\n",
       "      <td>Steve Martin, Diane Keaton, Martin Short, Kimb...</td>\n",
       "      <td>Charles Shyer</td>\n",
       "    </tr>\n",
       "    <tr>\n",
       "      <th>5</th>\n",
       "      <td>[{'cast_id': 25, 'character': 'Lt. Vincent Han...</td>\n",
       "      <td>[{'credit_id': '52fe4292c3a36847f802916d', 'de...</td>\n",
       "      <td>949</td>\n",
       "      <td>Al Pacino, Robert De Niro, Val Kilmer, Jon Voi...</td>\n",
       "      <td>Michael Mann</td>\n",
       "    </tr>\n",
       "    <tr>\n",
       "      <th>6</th>\n",
       "      <td>[{'cast_id': 1, 'character': 'Linus Larrabee',...</td>\n",
       "      <td>[{'credit_id': '52fe44959251416c75039da9', 'de...</td>\n",
       "      <td>11860</td>\n",
       "      <td>Harrison Ford, Julia Ormond, Greg Kinnear, Ang...</td>\n",
       "      <td>Sydney Pollack</td>\n",
       "    </tr>\n",
       "    <tr>\n",
       "      <th>7</th>\n",
       "      <td>[{'cast_id': 2, 'character': 'Tom Sawyer', 'cr...</td>\n",
       "      <td>[{'credit_id': '52fe46bdc3a36847f810f797', 'de...</td>\n",
       "      <td>45325</td>\n",
       "      <td>Jonathan Taylor Thomas, Brad Renfro, Rachael L...</td>\n",
       "      <td>Peter Hewitt</td>\n",
       "    </tr>\n",
       "    <tr>\n",
       "      <th>8</th>\n",
       "      <td>[{'cast_id': 1, 'character': 'Darren Francis T...</td>\n",
       "      <td>[{'credit_id': '52fe44dbc3a36847f80ae0f1', 'de...</td>\n",
       "      <td>9091</td>\n",
       "      <td>Jean-Claude Van Damme, Powers Boothe, Dorian H...</td>\n",
       "      <td>Peter Hyams</td>\n",
       "    </tr>\n",
       "    <tr>\n",
       "      <th>9</th>\n",
       "      <td>[{'cast_id': 1, 'character': 'James Bond', 'cr...</td>\n",
       "      <td>[{'credit_id': '52fe426ec3a36847f801e14b', 'de...</td>\n",
       "      <td>710</td>\n",
       "      <td>Pierce Brosnan, Sean Bean, Izabella Scorupco, ...</td>\n",
       "      <td>Martin Campbell</td>\n",
       "    </tr>\n",
       "    <tr>\n",
       "      <th>10</th>\n",
       "      <td>[{'cast_id': 1, 'character': 'Andrew Shepherd'...</td>\n",
       "      <td>[{'credit_id': '52fe44dac3a36847f80adfa3', 'de...</td>\n",
       "      <td>9087</td>\n",
       "      <td>Michael Douglas, Annette Bening, Michael J. Fo...</td>\n",
       "      <td>Rob Reiner</td>\n",
       "    </tr>\n",
       "    <tr>\n",
       "      <th>11</th>\n",
       "      <td>[{'cast_id': 9, 'character': 'Count Dracula', ...</td>\n",
       "      <td>[{'credit_id': '52fe44b79251416c7503e7fb', 'de...</td>\n",
       "      <td>12110</td>\n",
       "      <td>Leslie Nielsen, Mel Brooks, Amy Yasbeck, Peter...</td>\n",
       "      <td>Mel Brooks</td>\n",
       "    </tr>\n",
       "    <tr>\n",
       "      <th>12</th>\n",
       "      <td>[{'cast_id': 1, 'character': 'Balto (voice)', ...</td>\n",
       "      <td>[{'credit_id': '593f24b9c3a3680369002371', 'de...</td>\n",
       "      <td>21032</td>\n",
       "      <td>Kevin Bacon, Bob Hoskins, Bridget Fonda, Jim C...</td>\n",
       "      <td>Simon Wells</td>\n",
       "    </tr>\n",
       "    <tr>\n",
       "      <th>13</th>\n",
       "      <td>[{'cast_id': 1, 'character': 'Richard Nixon', ...</td>\n",
       "      <td>[{'credit_id': '52fe43c59251416c7501d6f3', 'de...</td>\n",
       "      <td>10858</td>\n",
       "      <td>Anthony Hopkins, Joan Allen, Powers Boothe, Ed...</td>\n",
       "      <td>Oliver Stone</td>\n",
       "    </tr>\n",
       "    <tr>\n",
       "      <th>14</th>\n",
       "      <td>[{'cast_id': 1, 'character': 'Morgan Adams', '...</td>\n",
       "      <td>[{'credit_id': '52fe42f4c3a36847f802f69f', 'de...</td>\n",
       "      <td>1408</td>\n",
       "      <td>Geena Davis, Matthew Modine, Frank Langella, M...</td>\n",
       "      <td>Renny Harlin</td>\n",
       "    </tr>\n",
       "    <tr>\n",
       "      <th>15</th>\n",
       "      <td>[{'cast_id': 4, 'character': \"Sam 'Ace' Rothst...</td>\n",
       "      <td>[{'credit_id': '52fe424dc3a36847f80139cd', 'de...</td>\n",
       "      <td>524</td>\n",
       "      <td>Robert De Niro, Sharon Stone, Joe Pesci, James...</td>\n",
       "      <td>Martin Scorsese</td>\n",
       "    </tr>\n",
       "    <tr>\n",
       "      <th>16</th>\n",
       "      <td>[{'cast_id': 6, 'character': 'Marianne Dashwoo...</td>\n",
       "      <td>[{'credit_id': '52fe43cec3a36847f807101f', 'de...</td>\n",
       "      <td>4584</td>\n",
       "      <td>Kate Winslet, Emma Thompson, Hugh Grant, Tom W...</td>\n",
       "      <td>Ang Lee</td>\n",
       "    </tr>\n",
       "    <tr>\n",
       "      <th>17</th>\n",
       "      <td>[{'cast_id': 42, 'character': 'Ted the Bellhop...</td>\n",
       "      <td>[{'credit_id': '52fe420dc3a36847f800011b', 'de...</td>\n",
       "      <td>5</td>\n",
       "      <td>Tim Roth, Antonio Banderas, Jennifer Beals, Ma...</td>\n",
       "      <td>Allison Anders, Alexandre Rockwell, Robert Rod...</td>\n",
       "    </tr>\n",
       "    <tr>\n",
       "      <th>18</th>\n",
       "      <td>[{'cast_id': 1, 'character': 'Ace Ventura', 'c...</td>\n",
       "      <td>[{'credit_id': '52fe44dfc3a36847f80af28b', 'de...</td>\n",
       "      <td>9273</td>\n",
       "      <td>Jim Carrey, Ian McNeice, Simon Callow, Maynard...</td>\n",
       "      <td>Steve Oedekerk</td>\n",
       "    </tr>\n",
       "    <tr>\n",
       "      <th>19</th>\n",
       "      <td>[{'cast_id': 1, 'character': 'John', 'credit_i...</td>\n",
       "      <td>[{'credit_id': '52fe44509251416c750305a1', 'de...</td>\n",
       "      <td>11517</td>\n",
       "      <td>Wesley Snipes, Woody Harrelson, Jennifer Lopez...</td>\n",
       "      <td>Joseph Ruben</td>\n",
       "    </tr>\n",
       "  </tbody>\n",
       "</table>\n",
       "</div>"
      ],
      "text/plain": [
       "                                                 cast  \\\n",
       "0   [{'cast_id': 14, 'character': 'Woody (voice)',...   \n",
       "1   [{'cast_id': 1, 'character': 'Alan Parrish', '...   \n",
       "2   [{'cast_id': 2, 'character': 'Max Goldman', 'c...   \n",
       "3   [{'cast_id': 1, 'character': \"Savannah 'Vannah...   \n",
       "4   [{'cast_id': 1, 'character': 'George Banks', '...   \n",
       "5   [{'cast_id': 25, 'character': 'Lt. Vincent Han...   \n",
       "6   [{'cast_id': 1, 'character': 'Linus Larrabee',...   \n",
       "7   [{'cast_id': 2, 'character': 'Tom Sawyer', 'cr...   \n",
       "8   [{'cast_id': 1, 'character': 'Darren Francis T...   \n",
       "9   [{'cast_id': 1, 'character': 'James Bond', 'cr...   \n",
       "10  [{'cast_id': 1, 'character': 'Andrew Shepherd'...   \n",
       "11  [{'cast_id': 9, 'character': 'Count Dracula', ...   \n",
       "12  [{'cast_id': 1, 'character': 'Balto (voice)', ...   \n",
       "13  [{'cast_id': 1, 'character': 'Richard Nixon', ...   \n",
       "14  [{'cast_id': 1, 'character': 'Morgan Adams', '...   \n",
       "15  [{'cast_id': 4, 'character': \"Sam 'Ace' Rothst...   \n",
       "16  [{'cast_id': 6, 'character': 'Marianne Dashwoo...   \n",
       "17  [{'cast_id': 42, 'character': 'Ted the Bellhop...   \n",
       "18  [{'cast_id': 1, 'character': 'Ace Ventura', 'c...   \n",
       "19  [{'cast_id': 1, 'character': 'John', 'credit_i...   \n",
       "\n",
       "                                                 crew     id  \\\n",
       "0   [{'credit_id': '52fe4284c3a36847f8024f49', 'de...    862   \n",
       "1   [{'credit_id': '52fe44bfc3a36847f80a7cd1', 'de...   8844   \n",
       "2   [{'credit_id': '52fe466a9251416c75077a89', 'de...  15602   \n",
       "3   [{'credit_id': '52fe44779251416c91011acb', 'de...  31357   \n",
       "4   [{'credit_id': '52fe44959251416c75039ed7', 'de...  11862   \n",
       "5   [{'credit_id': '52fe4292c3a36847f802916d', 'de...    949   \n",
       "6   [{'credit_id': '52fe44959251416c75039da9', 'de...  11860   \n",
       "7   [{'credit_id': '52fe46bdc3a36847f810f797', 'de...  45325   \n",
       "8   [{'credit_id': '52fe44dbc3a36847f80ae0f1', 'de...   9091   \n",
       "9   [{'credit_id': '52fe426ec3a36847f801e14b', 'de...    710   \n",
       "10  [{'credit_id': '52fe44dac3a36847f80adfa3', 'de...   9087   \n",
       "11  [{'credit_id': '52fe44b79251416c7503e7fb', 'de...  12110   \n",
       "12  [{'credit_id': '593f24b9c3a3680369002371', 'de...  21032   \n",
       "13  [{'credit_id': '52fe43c59251416c7501d6f3', 'de...  10858   \n",
       "14  [{'credit_id': '52fe42f4c3a36847f802f69f', 'de...   1408   \n",
       "15  [{'credit_id': '52fe424dc3a36847f80139cd', 'de...    524   \n",
       "16  [{'credit_id': '52fe43cec3a36847f807101f', 'de...   4584   \n",
       "17  [{'credit_id': '52fe420dc3a36847f800011b', 'de...      5   \n",
       "18  [{'credit_id': '52fe44dfc3a36847f80af28b', 'de...   9273   \n",
       "19  [{'credit_id': '52fe44509251416c750305a1', 'de...  11517   \n",
       "\n",
       "                                               actors  \\\n",
       "0   Tom Hanks, Tim Allen, Don Rickles, Jim Varney,...   \n",
       "1   Robin Williams, Jonathan Hyde, Kirsten Dunst, ...   \n",
       "2   Walter Matthau, Jack Lemmon, Ann-Margret, Soph...   \n",
       "3   Whitney Houston, Angela Bassett, Loretta Devin...   \n",
       "4   Steve Martin, Diane Keaton, Martin Short, Kimb...   \n",
       "5   Al Pacino, Robert De Niro, Val Kilmer, Jon Voi...   \n",
       "6   Harrison Ford, Julia Ormond, Greg Kinnear, Ang...   \n",
       "7   Jonathan Taylor Thomas, Brad Renfro, Rachael L...   \n",
       "8   Jean-Claude Van Damme, Powers Boothe, Dorian H...   \n",
       "9   Pierce Brosnan, Sean Bean, Izabella Scorupco, ...   \n",
       "10  Michael Douglas, Annette Bening, Michael J. Fo...   \n",
       "11  Leslie Nielsen, Mel Brooks, Amy Yasbeck, Peter...   \n",
       "12  Kevin Bacon, Bob Hoskins, Bridget Fonda, Jim C...   \n",
       "13  Anthony Hopkins, Joan Allen, Powers Boothe, Ed...   \n",
       "14  Geena Davis, Matthew Modine, Frank Langella, M...   \n",
       "15  Robert De Niro, Sharon Stone, Joe Pesci, James...   \n",
       "16  Kate Winslet, Emma Thompson, Hugh Grant, Tom W...   \n",
       "17  Tim Roth, Antonio Banderas, Jennifer Beals, Ma...   \n",
       "18  Jim Carrey, Ian McNeice, Simon Callow, Maynard...   \n",
       "19  Wesley Snipes, Woody Harrelson, Jennifer Lopez...   \n",
       "\n",
       "                                             director  \n",
       "0                                       John Lasseter  \n",
       "1                                        Joe Johnston  \n",
       "2                                       Howard Deutch  \n",
       "3                                     Forest Whitaker  \n",
       "4                                       Charles Shyer  \n",
       "5                                        Michael Mann  \n",
       "6                                      Sydney Pollack  \n",
       "7                                        Peter Hewitt  \n",
       "8                                         Peter Hyams  \n",
       "9                                     Martin Campbell  \n",
       "10                                         Rob Reiner  \n",
       "11                                         Mel Brooks  \n",
       "12                                        Simon Wells  \n",
       "13                                       Oliver Stone  \n",
       "14                                       Renny Harlin  \n",
       "15                                    Martin Scorsese  \n",
       "16                                            Ang Lee  \n",
       "17  Allison Anders, Alexandre Rockwell, Robert Rod...  \n",
       "18                                     Steve Oedekerk  \n",
       "19                                       Joseph Ruben  "
      ]
     },
     "execution_count": 82,
     "metadata": {},
     "output_type": "execute_result"
    }
   ],
   "source": [
    "credits_df.info() #Cabecera dataset\n",
    "credits_df.head(20)"
   ]
  },
  {
   "cell_type": "code",
   "execution_count": 41,
   "metadata": {},
   "outputs": [],
   "source": []
  },
  {
   "cell_type": "code",
   "execution_count": 84,
   "metadata": {},
   "outputs": [
    {
     "data": {
      "text/plain": [
       "cast        [{'cast_id': 42, 'character': 'Ted the Bellhop...\n",
       "crew        [{'credit_id': '52fe420dc3a36847f800011b', 'de...\n",
       "id                                                          5\n",
       "actors      Tim Roth, Antonio Banderas, Jennifer Beals, Ma...\n",
       "director    Allison Anders, Alexandre Rockwell, Robert Rod...\n",
       "Name: 17, dtype: object"
      ]
     },
     "execution_count": 84,
     "metadata": {},
     "output_type": "execute_result"
    }
   ],
   "source": [
    "credits_df.iloc[17] #Registro con varios directores"
   ]
  },
  {
   "cell_type": "code",
   "execution_count": 42,
   "metadata": {},
   "outputs": [],
   "source": [
    "#Se guarda el dataframe editado al archivo\n",
    "credits_df.to_csv('credits.csv', index=False)"
   ]
  },
  {
   "cell_type": "code",
   "execution_count": 85,
   "metadata": {},
   "outputs": [],
   "source": [
    "#Se agregan las columnas 'actors' y 'director' al archivo 'movies.csv'\n",
    "actors_director = credits_df[['id', 'actors', 'director']]\n",
    "movies_df = pd.merge(movies_df, actors_director, on='id', how='left')"
   ]
  },
  {
   "cell_type": "code",
   "execution_count": 87,
   "metadata": {},
   "outputs": [
    {
     "data": {
      "text/plain": [
       "adult                                                                False\n",
       "belongs_to_collection                                                  NaN\n",
       "budget                                                                   0\n",
       "genres                   [{'id': 10749, 'name': 'Romance'}, {'id': 35, ...\n",
       "homepage                                                               NaN\n",
       "id                                                                   60116\n",
       "imdb_id                                                          tt0034268\n",
       "original_language                                                       it\n",
       "original_title                                              Teresa Venerdì\n",
       "overview                 A comedy of errors in which the sweetly incomp...\n",
       "popularity                                                        0.834656\n",
       "poster_path                               /jJHa0zCJhd9pSD2TDh4EmJiAZCY.jpg\n",
       "production_companies     [{'name': 'Europa Film', 'id': 1763}, {'name':...\n",
       "production_countries               [{'iso_3166_1': 'IT', 'name': 'Italy'}]\n",
       "release_date                                                    1941-01-01\n",
       "revenue                                                                0.0\n",
       "runtime                                                               87.0\n",
       "spoken_languages                 [{'iso_639_1': 'it', 'name': 'Italiano'}]\n",
       "status                                                            Released\n",
       "tagline                                                                NaN\n",
       "title                                                       Teresa Venerdì\n",
       "video                                                                False\n",
       "vote_average                                                           7.1\n",
       "vote_count                                                             7.0\n",
       "actors                     Vittorio De Sica, Adriana Benetti, Anna Magnani\n",
       "director                                                  Vittorio De Sica\n",
       "Name: 35559, dtype: object"
      ]
     },
     "execution_count": 87,
     "metadata": {},
     "output_type": "execute_result"
    }
   ],
   "source": [
    "movies_df.iloc[35559]  #Verifico la adicion de las columnas 'actores' y 'director'"
   ]
  },
  {
   "cell_type": "code",
   "execution_count": 88,
   "metadata": {},
   "outputs": [],
   "source": [
    "#La carga del archivo 'credits.csv' a la base de datos en MySQL Workbench tenia inconveniente cuando un registro tenia mas de un director\n",
    "#Se adiciono una columna de ceros, como truco para permitir la carga de los datos de ese archivo\n",
    "movies_df['zeros'] = 0"
   ]
  },
  {
   "cell_type": "code",
   "execution_count": 90,
   "metadata": {},
   "outputs": [],
   "source": [
    "#Se guarda el archivo\n",
    "movies_df.to_csv('movies_dataset.csv', index=False)"
   ]
  }
 ],
 "metadata": {
  "kernelspec": {
   "display_name": "Python 3",
   "language": "python",
   "name": "python3"
  },
  "language_info": {
   "codemirror_mode": {
    "name": "ipython",
    "version": 3
   },
   "file_extension": ".py",
   "mimetype": "text/x-python",
   "name": "python",
   "nbconvert_exporter": "python",
   "pygments_lexer": "ipython3",
   "version": "3.10.6"
  },
  "orig_nbformat": 4
 },
 "nbformat": 4,
 "nbformat_minor": 2
}
